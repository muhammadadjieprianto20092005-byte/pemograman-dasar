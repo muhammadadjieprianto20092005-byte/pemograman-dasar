{
  "nbformat": 4,
  "nbformat_minor": 0,
  "metadata": {
    "colab": {
      "provenance": [],
      "authorship_tag": "ABX9TyOb1oIfIrz9N07lNMSGKwcL",
      "include_colab_link": true
    },
    "kernelspec": {
      "name": "python3",
      "display_name": "Python 3"
    },
    "language_info": {
      "name": "python"
    }
  },
  "cells": [
    {
      "cell_type": "markdown",
      "metadata": {
        "id": "view-in-github",
        "colab_type": "text"
      },
      "source": [
        "<a href=\"https://colab.research.google.com/github/muhammadadjieprianto20092005-byte/pemograman-dasar/blob/main/pratikum%20pertemuan%20ke%204.ipynb\" target=\"_parent\"><img src=\"https://colab.research.google.com/assets/colab-badge.svg\" alt=\"Open In Colab\"/></a>"
      ]
    },
    {
      "cell_type": "code",
      "execution_count": null,
      "metadata": {
        "colab": {
          "base_uri": "https://localhost:8080/"
        },
        "id": "yqyM2YRRSaf4",
        "outputId": "78e209ca-aacf-49f0-8f16-2080703d4b32"
      },
      "outputs": [
        {
          "output_type": "stream",
          "name": "stdout",
          "text": [
            "pengunjung adalah orang dewasa.\n"
          ]
        }
      ],
      "source": [
        "# variabel untuk menyimpan umur pengunjung\n",
        "umur: int = 20\n",
        "\n",
        "# program hanya akan mencetak pesan jika umur di atas 17\n",
        "if umur > 17:\n",
        "  print(\"pengunjung adalah orang dewasa.\")"
      ]
    },
    {
      "cell_type": "code",
      "source": [
        "username = input(\"masukkan username: \")\n",
        "password = input(\"masukkan password: \")\n",
        "\n",
        "if username == \"admin\" and password == \"1234\":\n",
        "  print(\"login berhasil\")\n",
        "else:\n",
        "  print(\"login gagal\")"
      ],
      "metadata": {
        "colab": {
          "base_uri": "https://localhost:8080/"
        },
        "id": "V34umUIHbf0Y",
        "outputId": "b9306a43-7eae-46db-83f6-4deaed81d527"
      },
      "execution_count": null,
      "outputs": [
        {
          "output_type": "stream",
          "name": "stdout",
          "text": [
            "masukkan username: admin\n",
            "masukkan password: 1234\n",
            "login berhasil\n"
          ]
        }
      ]
    },
    {
      "cell_type": "code",
      "source": [
        "# program untuk mengecek bonus dan diskon\n",
        "total_belanja = input(\"total belanja: Rp \")\n",
        "# jumlah yang harus dibayar adalah berapa total belanjanya\n",
        "# tapi kalau dapat diskon akan berkurang\n",
        "bayar = int(total_belanja)\n",
        "# jika dia belanja di atas 100rb maka berikan bonus dan diskon\n",
        "if int(total_belanja) > 100000:\n",
        "  print(\"selamat karena belanja > Rp. 100.000 anda mendapat voucher makan \")\n",
        "  print(\"dan diskon 5%\")\n",
        "# hitung diskonnya\n",
        "diskon = int(total_belanja) * 5/100 #5%\n",
        "bayar = int(total_belanja) - diskon\n",
        "# cetak struk\n",
        "print(\"total yang harus dibayar: Rp %s\" % bayar)\n",
        "print(\"terima kasih sudah berbelanja di toko kami\")\n",
        "print(\"kami tunggu kunjungan anda selanjutnya.\")"
      ],
      "metadata": {
        "colab": {
          "base_uri": "https://localhost:8080/"
        },
        "id": "fjBtCi_Cc0A4",
        "outputId": "2538f09e-1674-4392-dcd4-14fe93543844"
      },
      "execution_count": null,
      "outputs": [
        {
          "output_type": "stream",
          "name": "stdout",
          "text": [
            "total belanja: Rp 20000\n",
            "total yang harus dibayar: Rp 19000.0\n",
            "terima kasih sudah berbelanja di toko kami\n",
            "kami tunggu kunjungan anda selanjutnya.\n"
          ]
        }
      ]
    },
    {
      "cell_type": "code",
      "source": [
        "# variabel untuk memeriksa apakah ada notifikasi baru\n",
        "ada_notifikasi_baru: bool = True\n",
        "\n",
        "if ada_notifikasi_baru:\n",
        "  print(\"anda memiliki pesan baru!\")"
      ],
      "metadata": {
        "colab": {
          "base_uri": "https://localhost:8080/"
        },
        "id": "QqKcTbT6fbzI",
        "outputId": "d5d13b3d-7ec1-40ba-a91c-e9a63ff27611"
      },
      "execution_count": null,
      "outputs": [
        {
          "output_type": "stream",
          "name": "stdout",
          "text": [
            "anda memiliki pesan baru!\n"
          ]
        }
      ]
    },
    {
      "cell_type": "code",
      "source": [
        "umur = input(\"berapa umur kamu: \")\n",
        "if int(umur) >= 18:\n",
        "  print(\"kamu boleh membuat SIM\")\n",
        "else:\n",
        "  print(\"kamu belum boleh membuat SIM\")"
      ],
      "metadata": {
        "colab": {
          "base_uri": "https://localhost:8080/"
        },
        "id": "xUKNSPvagDLo",
        "outputId": "d116a8fd-d5a9-429c-b1d9-5c05616f3a99"
      },
      "execution_count": null,
      "outputs": [
        {
          "output_type": "stream",
          "name": "stdout",
          "text": [
            "berapa umur kamu: 20\n",
            "kamu boleh membuat SIM\n"
          ]
        }
      ]
    },
    {
      "cell_type": "code",
      "source": [
        "total_belanja = 30000\n",
        "\n",
        "\n",
        "if int(total_belanja) > 20000:\n",
        "  diskon = total_belanja * 0.10\n",
        "  total_bayar = total_belanja - diskon\n",
        "  print(f\"anda mendapat diskon total bayar: Rp {total_bayar}\")\n",
        "else:\n",
        "  print(f\"total bayar: Rp {total_belanja}\")"
      ],
      "metadata": {
        "colab": {
          "base_uri": "https://localhost:8080/"
        },
        "id": "JNnu9PuGg1Ig",
        "outputId": "c1c71b00-ee3b-4790-f56a-d80ee09cc103"
      },
      "execution_count": null,
      "outputs": [
        {
          "output_type": "stream",
          "name": "stdout",
          "text": [
            "anda mendapat diskon total bayar: Rp 27000.0\n"
          ]
        }
      ]
    },
    {
      "cell_type": "code",
      "source": [
        "angka = int(input(\"masukkan bilangan: \"))\n",
        "\n",
        "if angka % 2 == 0:\n",
        "  print(\"bilangan genap\")\n",
        "else:\n",
        "  print(\"bilangan ganjil\")"
      ],
      "metadata": {
        "colab": {
          "base_uri": "https://localhost:8080/"
        },
        "id": "fZP9OXHDixSI",
        "outputId": "fcb48722-ec91-4ad4-ba63-db66ab7eebd9"
      },
      "execution_count": null,
      "outputs": [
        {
          "output_type": "stream",
          "name": "stdout",
          "text": [
            "masukkan bilangan: 2\n",
            "bilangan genap\n"
          ]
        }
      ]
    },
    {
      "cell_type": "code",
      "source": [
        "nilai = 99\n",
        "if nilai >= 85:\n",
        "  print(\"luar biasa! nilai A\")\n",
        "elif nilai >= 70:\n",
        "  print(\"bagus! nilai B\")\n",
        "elif nilai >= 60:\n",
        "  print(\"cukup. nilai C\")\n",
        "else:\n",
        "  print(\"nilai kurang, perlu belajar lebih giat.\")"
      ],
      "metadata": {
        "colab": {
          "base_uri": "https://localhost:8080/"
        },
        "id": "xSlMQzXljeg4",
        "outputId": "2468655a-6680-4ea9-b94a-6c0ef5a6fea9"
      },
      "execution_count": null,
      "outputs": [
        {
          "output_type": "stream",
          "name": "stdout",
          "text": [
            "luar biasa! nilai A\n"
          ]
        }
      ]
    },
    {
      "cell_type": "code",
      "source": [
        "# menentukan jenis diskon bedasarkan hari\n",
        "hari: str = \"sabtu\"\n",
        "\n",
        "if hari == \"sabtu\" or hari == \"minggu\":\n",
        "  diskon: float = 0.20 # diskon 20%\n",
        "  print(f\"selamat! anda mendapat diskon akhir pekan sebesar {diskon*100}%.\")\n",
        "elif hari == \"jumat\":\n",
        "  diskon: float = 0.15 # diskon 15%\n",
        "  print(f\"diskon spesial jumat! anda mendapat potongan {diskon*100}%.\")\n",
        "else:\n",
        "  diskon: float = 0.05 # diskon 5%\n",
        "  print(f\"anda mendapat diskon hari biasa sebesar {diskon*100}%\")"
      ],
      "metadata": {
        "colab": {
          "base_uri": "https://localhost:8080/"
        },
        "id": "SAB6CnvLkWdg",
        "outputId": "c8071533-59c9-4a47-cbb1-535e9f0d7c06"
      },
      "execution_count": null,
      "outputs": [
        {
          "output_type": "stream",
          "name": "stdout",
          "text": [
            "selamat! anda mendapat diskon akhir pekan sebesar 20.0%.\n"
          ]
        }
      ]
    },
    {
      "cell_type": "code",
      "source": [
        "rupiah = int(input(\"masukkan jumlah uang (Rp): \"))\n",
        "print(\"1. dollar (USD)\")\n",
        "print(\"2. euro (EUR)\")\n",
        "print(\"3. yen (JPY)\")\n",
        "pilih = int(input(\"pilih konversi (1/2/3): \"))\n",
        "\n",
        "if pilih == 1:\n",
        "  print(\"dalam dolar:\", rupiah / 15000)\n",
        "elif pilih == 2:\n",
        "  print(\"dalam euro:\", rupiah / 16000)\n",
        "elif pilih == 3:\n",
        "  print(\"dalam yen:\", rupiah / 120)\n",
        "else:\n",
        "  print(\"pilihan tidak valid\")"
      ],
      "metadata": {
        "colab": {
          "base_uri": "https://localhost:8080/"
        },
        "id": "gXaUGjtjlvWY",
        "outputId": "e1f0aaa5-3f2c-4557-f510-581435cd19bb"
      },
      "execution_count": null,
      "outputs": [
        {
          "output_type": "stream",
          "name": "stdout",
          "text": [
            "masukkan jumlah uang (Rp): 10000\n",
            "1. dollar (USD)\n",
            "2. euro (EUR)\n",
            "3. yen (JPY)\n",
            "pilih konversi (1/2/3): 1\n",
            "dalam dolar: 0.6666666666666666\n"
          ]
        }
      ]
    },
    {
      "cell_type": "code",
      "source": [],
      "metadata": {
        "id": "N3gwBqA3nc0g"
      },
      "execution_count": null,
      "outputs": []
    }
  ]
}