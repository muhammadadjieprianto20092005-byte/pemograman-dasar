{
  "nbformat": 4,
  "nbformat_minor": 0,
  "metadata": {
    "colab": {
      "provenance": [],
      "authorship_tag": "ABX9TyOQpD3GhdW9iiVLs5lwIx+3",
      "include_colab_link": true
    },
    "kernelspec": {
      "name": "python3",
      "display_name": "Python 3"
    },
    "language_info": {
      "name": "python"
    }
  },
  "cells": [
    {
      "cell_type": "markdown",
      "metadata": {
        "id": "view-in-github",
        "colab_type": "text"
      },
      "source": [
        "<a href=\"https://colab.research.google.com/github/muhammadadjieprianto20092005-byte/pemograman-dasar/blob/main/pratikum%206.ipynb\" target=\"_parent\"><img src=\"https://colab.research.google.com/assets/colab-badge.svg\" alt=\"Open In Colab\"/></a>"
      ]
    },
    {
      "cell_type": "code",
      "execution_count": 18,
      "metadata": {
        "colab": {
          "base_uri": "https://localhost:8080/"
        },
        "id": "B_YkcTsqkepI",
        "outputId": "bfef623a-c164-48a2-a9d9-9fc89952756a"
      },
      "outputs": [
        {
          "output_type": "stream",
          "name": "stdout",
          "text": [
            "Sistem siap. Selamat datang kembali di sesi praktikum.\n",
            "Nama : (muhammad adjie prianto)\n",
            "NIM  : (4232411039)\n",
            "Prodi: (RPE)\n",
            "Alamat: (kavling sambau)\n",
            "Pekerjaan: (sumitomo)\n",
            "Umur: (20)\n"
          ]
        }
      ],
      "source": [
        "# SOAL 1: Fungsi Inisialisasi Sederhana\n",
        "def sapa_praktikan():\n",
        "    \"\"\"Mencetak pesan sambutan dasar.\"\"\"\n",
        "    print(\"Sistem siap. Selamat datang kembali di sesi praktikum.\")\n",
        "\n",
        "# Pemanggilan\n",
        "sapa_praktikan()\n",
        "\n",
        "# Modifikasi: fungsi biodata sederhana\n",
        "def biodata():\n",
        "    print(\"Nama : (muhammad adjie prianto)\")\n",
        "    print(\"NIM  : (4232411039)\")\n",
        "    print(\"Prodi: (RPE)\")\n",
        "    print(\"Alamat: (kavling sambau)\")\n",
        "    print(\"Pekerjaan: (sumitomo)\")\n",
        "    print(\"Umur: (20)\")\n",
        "\n",
        "biodata()\n"
      ]
    },
    {
      "cell_type": "code",
      "source": [
        "def hitung_volume_kubus(sisi):\n",
        "    \"\"\"Menghitung volume kubus dari panjang sisinya.\"\"\"\n",
        "    return sisi ** 3  # karena volume kubus = s³\n",
        "\n",
        "# Pemanggilan:\n",
        "panjang_sisi = 5\n",
        "print(f\"Volume kubus dengan sisi {panjang_sisi} adalah: {hitung_volume_kubus(panjang_sisi)}\")\n"
      ],
      "metadata": {
        "colab": {
          "base_uri": "https://localhost:8080/"
        },
        "id": "SZfrPKkDc3s4",
        "outputId": "1f824026-59dd-4274-cc43-9b6f9e518502"
      },
      "execution_count": 3,
      "outputs": [
        {
          "output_type": "stream",
          "name": "stdout",
          "text": [
            "Volume kubus dengan sisi 5 adalah: 125\n"
          ]
        }
      ]
    },
    {
      "cell_type": "code",
      "source": [
        "# SOAL 2: Menghitung Volume Kubus\n",
        "def hitung_volume_balok(panjang, lebar, tinggi):\n",
        "    \"\"\"Menghitung volume balok dari panjang lebar tinggi.\"\"\"\n",
        "    return panjang * lebar * tinggi\n",
        "\n",
        "# Pemanggilan:\n",
        "p = 5\n",
        "l = 7\n",
        "t = 3\n",
        "print(f\"Volume balok dengan ukuran {p}{l}{t} adalah: {hitung_volume_balok(p, l, t)}\")"
      ],
      "metadata": {
        "colab": {
          "base_uri": "https://localhost:8080/"
        },
        "id": "SGbcq5lUl3eW",
        "outputId": "450b7e87-3b0c-42b4-f37a-1e9e1fa04bd5"
      },
      "execution_count": 2,
      "outputs": [
        {
          "output_type": "stream",
          "name": "stdout",
          "text": [
            "Volume balok dengan ukuran 573 adalah: 105\n"
          ]
        }
      ]
    },
    {
      "cell_type": "code",
      "source": [
        "def hitung_rata_rata(data_nilai):\n",
        "    \"\"\"Menghitung rata-rata dari list angka menggunakan perulangan for.\"\"\"\n",
        "    total = 0\n",
        "\n",
        "    # Perulangan untuk menjumlahkan semua nilai\n",
        "    for nilai in data_nilai:\n",
        "        total += nilai\n",
        "\n",
        "    # Pembagian untuk rata-rata\n",
        "    if len(data_nilai) > 0:\n",
        "        return total / len(data_nilai)\n",
        "    return 0\n",
        "\n",
        "\n",
        "# Pemanggilan:\n",
        "nilai_praktikan = [85, 78, 92, 65, 90]\n",
        "print(f\"Nilai rata-rata kelas adalah: {hitung_rata_rata(nilai_praktikan)}\")\n"
      ],
      "metadata": {
        "colab": {
          "base_uri": "https://localhost:8080/"
        },
        "id": "M5FMPJ7Jc7-k",
        "outputId": "6366df77-eba0-4dc7-ea6f-7306f2ee0dd6"
      },
      "execution_count": 4,
      "outputs": [
        {
          "output_type": "stream",
          "name": "stdout",
          "text": [
            "Nilai rata-rata kelas adalah: 82.0\n"
          ]
        }
      ]
    },
    {
      "cell_type": "code",
      "source": [
        "def hitung_rata_rata(data_nilai):\n",
        "    \"\"\"Menghitung rata-rata dari list angka, mengabaikan nilai di luar 0–100.\"\"\"\n",
        "    total = 0\n",
        "    jumlah_valid = 0\n",
        "\n",
        "    for nilai in data_nilai:\n",
        "        if 0 <= nilai <= 100:      # hanya nilai valid\n",
        "            total += nilai\n",
        "            jumlah_valid += 1\n",
        "        else:\n",
        "            print(f\"Nilai {nilai} diabaikan karena tidak valid.\")\n",
        "\n",
        "    if jumlah_valid > 0:\n",
        "        return total / jumlah_valid\n",
        "    return 0\n",
        "\n",
        "\n",
        "# Contoh pemanggilan\n",
        "nilai_praktikan = [85, 102, 78, -5, 90]\n",
        "print(f\"Nilai rata-rata kelas adalah: {hitung_rata_rata(nilai_praktikan)}\")\n"
      ],
      "metadata": {
        "colab": {
          "base_uri": "https://localhost:8080/"
        },
        "id": "8rkMAkl9gMVN",
        "outputId": "4c11c5e7-cfb8-441a-c9b6-f25835ed7661"
      },
      "execution_count": 5,
      "outputs": [
        {
          "output_type": "stream",
          "name": "stdout",
          "text": [
            "Nilai 102 diabaikan karena tidak valid.\n",
            "Nilai -5 diabaikan karena tidak valid.\n",
            "Nilai rata-rata kelas adalah: 84.33333333333333\n"
          ]
        }
      ]
    },
    {
      "cell_type": "code",
      "source": [
        "# SOAL 4: Sistem Penentuan Predikat Nilai\n",
        "def tentukan_predikat(skor):\n",
        "    \"\"\"Menentukan predikat (A, B, C, D, E) berdasarkan skor.\"\"\"\n",
        "\n",
        "    # Percabangan untuk menentukan predikat\n",
        "    if skor >= 85:\n",
        "        return \"A\"\n",
        "    elif skor >= 70:\n",
        "        return \"B\"\n",
        "    elif skor >= 60:\n",
        "        return \"C\"\n",
        "    elif skor >= 50:\n",
        "        return \"D\"\n",
        "    else:\n",
        "        return \"E\"\n",
        "\n",
        "\n",
        "# Pemanggilan:\n",
        "print(f\"Skor 75 mendapat predikat: {tentukan_predikat(75)}\")\n",
        "print(f\"Skor 48 mendapat predikat: {tentukan_predikat(48)}\")\n",
        "print(f\"Skor 90 mendapat predikat: {tentukan_predikat(90)}\")\n",
        "print(f\"Skor 120 mendapat predikat: {tentukan_predikat(120)}\")\n"
      ],
      "metadata": {
        "colab": {
          "base_uri": "https://localhost:8080/"
        },
        "id": "G1I4ZUU0kUAP",
        "outputId": "b9ecb74d-3c7c-4db8-a6c2-2dad91104c91"
      },
      "execution_count": 8,
      "outputs": [
        {
          "output_type": "stream",
          "name": "stdout",
          "text": [
            "Skor 75 mendapat predikat: B\n",
            "Skor 48 mendapat predikat: E\n",
            "Skor 90 mendapat predikat: A\n",
            "Skor 120 mendapat predikat: A\n"
          ]
        }
      ]
    },
    {
      "cell_type": "code",
      "source": [
        "# SOAL 4: Sistem Penentuan Predikat Nilai\n",
        "def tentukan_predikat(skor):\n",
        "    \"\"\"Menentukan predikat (A, B, C, D, E) berdasarkan skor.\"\"\"\n",
        "\n",
        "    # Pengecekan tipe data: hanya menerima int atau float\n",
        "    if not isinstance(skor, (int, float)):\n",
        "        return \"Input tidak valid! Harus berupa angka.\"\n",
        "\n",
        "    # Pastikan nilai berada dalam rentang 0–100\n",
        "    if skor < 0 or skor > 100:\n",
        "        return \"Skor di luar rentang! (0–100).\"\n",
        "\n",
        "    # Percabangan untuk menentukan predikat\n",
        "    if skor >= 85:\n",
        "        return \"A\"\n",
        "    elif skor >= 70:\n",
        "        return \"B\"\n",
        "    elif skor >= 60:\n",
        "        return \"C\"\n",
        "    elif skor >= 50:\n",
        "        return \"D\"\n",
        "    else:\n",
        "        return \"E\"\n",
        "\n",
        "\n",
        "# Pemanggilan:\n",
        "print(f\"Skor 75 mendapat predikat: {tentukan_predikat(75)}\")\n",
        "print(f\"Skor 48 mendapat predikat: {tentukan_predikat(48)}\")\n",
        "print(f\"Skor '90' (string) mendapat predikat: {tentukan_predikat('90')}\")\n",
        "print(f\"Skor 120 mendapat predikat: {tentukan_predikat(120)}\")\n"
      ],
      "metadata": {
        "colab": {
          "base_uri": "https://localhost:8080/"
        },
        "id": "fXRQmNaokDUQ",
        "outputId": "1b1d5770-1852-49b0-aa6f-82a72819ea4d"
      },
      "execution_count": 6,
      "outputs": [
        {
          "output_type": "stream",
          "name": "stdout",
          "text": [
            "Skor 75 mendapat predikat: B\n",
            "Skor 48 mendapat predikat: E\n",
            "Skor '90' (string) mendapat predikat: Input tidak valid! Harus berupa angka.\n",
            "Skor 120 mendapat predikat: Skor di luar rentang! (0–100).\n"
          ]
        }
      ]
    },
    {
      "cell_type": "code",
      "source": [
        "# SOAL 5: Menghitung Faktorial dengan Loop While\n",
        "def hitung_faktorial(n):\n",
        "    \"\"\"Menghitung faktorial dari bilangan positif n.\"\"\"\n",
        "    hasil = 1\n",
        "\n",
        "    # Perulangan berjalan selama n lebih besar dari 1\n",
        "    while n > 1:\n",
        "        hasil *= n\n",
        "        n -= 1  # Kurangi n satu per satu\n",
        "\n",
        "    return hasil\n",
        "\n",
        "\n",
        "# Pemanggilan:\n",
        "bilangan_n = 4\n",
        "print(f\"Faktorial dari {bilangan_n} adalah: {hitung_faktorial(bilangan_n)}\")  # Output: 24\n"
      ],
      "metadata": {
        "colab": {
          "base_uri": "https://localhost:8080/"
        },
        "id": "96kn-kHHolXo",
        "outputId": "109616a9-0667-410d-88f2-d3bd7ed32ac9"
      },
      "execution_count": 14,
      "outputs": [
        {
          "output_type": "stream",
          "name": "stdout",
          "text": [
            "Faktorial dari 4 adalah: 24\n"
          ]
        }
      ]
    },
    {
      "cell_type": "code",
      "source": [
        "# SOAL 5: Menghitung Faktorial dengan Loop While\n",
        "def hitung_faktorial(n):\n",
        "    \"\"\"Menghitung faktorial dari bilangan positif n.\"\"\"\n",
        "\n",
        "    # Tangani kasus khusus\n",
        "    if n < 0:\n",
        "        return \"Tidak dapat menghitung faktorial dari bilangan negatif.\"\n",
        "    elif n == 0:\n",
        "        return 1  # Secara definisi, 0! = 1\n",
        "\n",
        "    hasil = 1\n",
        "\n",
        "    # Perulangan berjalan selama n lebih besar dari 1\n",
        "    while n > 1:\n",
        "        hasil *= n\n",
        "        n -= 1  # Kurangi n satu per satu\n",
        "\n",
        "    return hasil\n",
        "\n",
        "\n",
        "# Pemanggilan:\n",
        "bilangan_n = 6\n",
        "print(f\"Faktorial dari {bilangan_n} adalah: {hitung_faktorial(bilangan_n)}\")  # Output: 24\n"
      ],
      "metadata": {
        "colab": {
          "base_uri": "https://localhost:8080/"
        },
        "id": "ItQ-AjSxlMkt",
        "outputId": "2a8d6db6-dcf7-4aa0-89f0-e6789056a3e1"
      },
      "execution_count": 11,
      "outputs": [
        {
          "output_type": "stream",
          "name": "stdout",
          "text": [
            "Faktorial dari 6 adalah: 720\n"
          ]
        }
      ]
    },
    {
      "cell_type": "code",
      "source": [
        "# SOAL 6: Analisis Data Suhu Ekstrem\n",
        "def analisis_suhu(data_suhu, batas_panas=35, batas_dingin=15):\n",
        "    \"\"\"Menghitung jumlah hari Panas dan Dingin dari data_suhu.\"\"\"\n",
        "\n",
        "    panas_count = 0\n",
        "    dingin_count = 0\n",
        "\n",
        "    # Perulangan untuk setiap suhu dalam list\n",
        "    for suhu in data_suhu:\n",
        "        if suhu >= 35:\n",
        "            panas_count += 1\n",
        "        elif suhu <= 15:\n",
        "            dingin_count += 1\n",
        "\n",
        "    return panas_count, dingin_count\n",
        "\n",
        "\n",
        "# Pemanggilan:\n",
        "suhu_mingguan = [36, 30, 14, 25, 38, 16, 28]\n",
        "jumlah_panas, jumlah_dingin = analisis_suhu(suhu_mingguan)\n",
        "\n",
        "print(f\"Jumlah hari Panas (≥35°C): {jumlah_panas}\")\n",
        "print(f\"Jumlah hari Dingin (≤15°C): {jumlah_dingin}\")\n"
      ],
      "metadata": {
        "colab": {
          "base_uri": "https://localhost:8080/"
        },
        "id": "_kgGgsUjwtsN",
        "outputId": "eabb118e-7d7f-4957-b5b8-9b754d576902"
      },
      "execution_count": 16,
      "outputs": [
        {
          "output_type": "stream",
          "name": "stdout",
          "text": [
            "Jumlah hari Panas (≥35°C): 2\n",
            "Jumlah hari Dingin (≤15°C): 1\n"
          ]
        }
      ]
    }
  ]
}