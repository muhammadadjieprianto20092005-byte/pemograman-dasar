{
  "nbformat": 4,
  "nbformat_minor": 0,
  "metadata": {
    "colab": {
      "provenance": [],
      "authorship_tag": "ABX9TyMYgKEOkP9VthXxWWW54epy",
      "include_colab_link": true
    },
    "kernelspec": {
      "name": "python3",
      "display_name": "Python 3"
    },
    "language_info": {
      "name": "python"
    }
  },
  "cells": [
    {
      "cell_type": "markdown",
      "metadata": {
        "id": "view-in-github",
        "colab_type": "text"
      },
      "source": [
        "<a href=\"https://colab.research.google.com/github/muhammadadjieprianto20092005-byte/pemograman-dasar/blob/main/tugas%202.ipynb\" target=\"_parent\"><img src=\"https://colab.research.google.com/assets/colab-badge.svg\" alt=\"Open In Colab\"/></a>"
      ]
    },
    {
      "cell_type": "code",
      "execution_count": 1,
      "metadata": {
        "colab": {
          "base_uri": "https://localhost:8080/"
        },
        "id": "mrfQV8hnF81f",
        "outputId": "7d51ff60-4ef0-4d3c-f92e-e25f1238b24a"
      },
      "outputs": [
        {
          "output_type": "stream",
          "name": "stdout",
          "text": [
            "muhammad adjie \n",
            "prianto\n",
            "20\n",
            "False\n"
          ]
        }
      ],
      "source": [
        "# data diri\n",
        "firstname = \"muhammad adjie \"\n",
        "lastname = \"prianto\"\n",
        "age = 20\n",
        "ismarried = False\n",
        "\n",
        "print(firstname)\n",
        "print(lastname)\n",
        "print(age)\n",
        "print(ismarried)\n"
      ]
    },
    {
      "cell_type": "code",
      "source": [
        "# data diri\n",
        "\n",
        "datadiri = {\n",
        "    \"firstname\": \"muhammad adjie\",\n",
        "    \"lastname\": \"prianto\",\n",
        "    \"age\": 20,\n",
        "    \"ismarried\": False}\n",
        "\n",
        "print(datadiri)\n",
        "print(type(datadiri))\n",
        "print(datadiri[\"firstname\"])\n",
        "print(datadiri[\"lastname\"])\n",
        "print(datadiri[\"age\"])\n",
        "print(datadiri[\"ismarried\"])\n"
      ],
      "metadata": {
        "colab": {
          "base_uri": "https://localhost:8080/"
        },
        "id": "SDgtOVMRQBFe",
        "outputId": "b9373bd9-eced-479d-a296-8f2250c08030"
      },
      "execution_count": 11,
      "outputs": [
        {
          "output_type": "stream",
          "name": "stdout",
          "text": [
            "{'firstname': 'muhammad adjie', 'lastname': 'prianto', 'age': 20, 'ismarried': False}\n",
            "<class 'dict'>\n",
            "muhammad adjie\n",
            "prianto\n",
            "20\n",
            "False\n"
          ]
        }
      ]
    },
    {
      "cell_type": "code",
      "source": [
        "# inspeksi\n",
        "inspeksi = [\n",
        "    \"pemahaman terhaadap rencana dan desain\",\n",
        "    \"ketersidiaan bahan dan peralatan\",\n",
        "    \"pengawasan pekerjaan\",\n",
        "    \"kualitas kontruksi\",\n",
        "    \"keselamatan kerja\",\n",
        "    \"koordinasi dengan pemilik proyek\"\n",
        "]\n",
        "\n",
        "print(\"dafar inspeksi\")\n",
        "print(\"jumlah item:\",len(inspeksi))\n",
        "print(\"tipe data:\",type(inspeksi))"
      ],
      "metadata": {
        "colab": {
          "base_uri": "https://localhost:8080/"
        },
        "id": "NiD5QQjUZEnE",
        "outputId": "104b9d29-04aa-4933-8abe-0b52736a0c4a"
      },
      "execution_count": 13,
      "outputs": [
        {
          "output_type": "stream",
          "name": "stdout",
          "text": [
            "dafar inspeksi\n",
            "jumlah item: 6\n",
            "tipe data: <class 'list'>\n"
          ]
        }
      ]
    },
    {
      "cell_type": "code",
      "source": [
        "# variabel starttime dan endtime\n",
        "starttime = {\n",
        "    \"hh\": 9,\n",
        "    \"mm\": 23,\n",
        "    \"ss\": 57\n",
        "}\n",
        "\n",
        "endtime = {\n",
        "    \"hh\":15,\n",
        "    \"mm\":25,\n",
        "    \"ss\":43\n",
        "}\n",
        "\n",
        "print(starttime)\n",
        "print(endtime)\n",
        "print(type(starttime))\n",
        "print(type(endtime))"
      ],
      "metadata": {
        "colab": {
          "base_uri": "https://localhost:8080/"
        },
        "id": "Tha8Bvi5dVzK",
        "outputId": "35338d14-5609-43b3-e8c0-8d0da1a2a7e7"
      },
      "execution_count": 15,
      "outputs": [
        {
          "output_type": "stream",
          "name": "stdout",
          "text": [
            "{'hh': 9, 'mm': 23, 'ss': 57}\n",
            "{'hh': 15, 'mm': 25, 'ss': 43}\n",
            "<class 'dict'>\n",
            "<class 'dict'>\n"
          ]
        }
      ]
    },
    {
      "cell_type": "code",
      "source": [
        "# katalo produk\n",
        "katalog_A = {\"laptop\", \"mouse\", \"keyboard\", \"printer\"}\n",
        "katalog_B = {\"monitor\", \"mouse\", \"headset\", \"printer\"}\n",
        "produk_diskon = (\"mouse\", \"keyboard\", \"webcam\", \"printer\")\n",
        "\n",
        "print(katalog_A)\n",
        "print(katalog_B)\n",
        "print(produk_diskon)\n",
        "\n",
        "katalog_lengkap = katalog_A.union(katalog_B)\n",
        "\n",
        "print(katalog_lengkap)\n",
        "\n",
        "produk_promo_aktif = katalog_lengkap.intersection(produk_diskon)\n",
        "print(produk_promo_aktif)"
      ],
      "metadata": {
        "colab": {
          "base_uri": "https://localhost:8080/"
        },
        "id": "iG0QBmDFfkn9",
        "outputId": "288d197a-f5c6-4d89-f75e-b5f31b088612"
      },
      "execution_count": 16,
      "outputs": [
        {
          "output_type": "stream",
          "name": "stdout",
          "text": [
            "{'keyboard', 'mouse', 'printer', 'laptop'}\n",
            "{'mouse', 'monitor', 'headset', 'printer'}\n",
            "('mouse', 'keyboard', 'webcam', 'printer')\n",
            "{'mouse', 'printer', 'keyboard', 'headset', 'monitor', 'laptop'}\n",
            "{'mouse', 'printer', 'keyboard'}\n"
          ]
        }
      ]
    }
  ]
}