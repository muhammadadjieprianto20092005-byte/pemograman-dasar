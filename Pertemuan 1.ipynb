{
  "nbformat": 4,
  "nbformat_minor": 0,
  "metadata": {
    "colab": {
      "provenance": [],
      "authorship_tag": "ABX9TyOpp0OC2tK9DQbAlxyQnYf1",
      "include_colab_link": true
    },
    "kernelspec": {
      "name": "python3",
      "display_name": "Python 3"
    },
    "language_info": {
      "name": "python"
    }
  },
  "cells": [
    {
      "cell_type": "markdown",
      "metadata": {
        "id": "view-in-github",
        "colab_type": "text"
      },
      "source": [
        "<a href=\"https://colab.research.google.com/github/muhammadadjieprianto20092005-byte/pemograman-dasar/blob/main/Pertemuan%201.ipynb\" target=\"_parent\"><img src=\"https://colab.research.google.com/assets/colab-badge.svg\" alt=\"Open In Colab\"/></a>"
      ]
    },
    {
      "cell_type": "code",
      "source": [
        "# Biodata Saya\n",
        "\n",
        "nama = \"muhammad adjie prianto\"\n",
        "umur = 26\n",
        "jurusan = \"RPE\"\n",
        "semester = 3\n",
        "mata_kuliah = 'pemerograman dasar'\n",
        "status_lulus = False\n",
        "\n",
        "\n",
        "print (nama)\n",
        "print (umur)\n",
        "print (jurusan)\n",
        "print (semester)\n",
        "print (mata_kuliah)\n",
        "print (status_lulus)\n",
        "\n",
        "\n",
        "\n"
      ],
      "metadata": {
        "colab": {
          "base_uri": "https://localhost:8080/"
        },
        "id": "fmBG1od7UBbw",
        "outputId": "41d6cfa9-43e6-4b28-8d16-ad736cfab66a"
      },
      "execution_count": 5,
      "outputs": [
        {
          "output_type": "stream",
          "name": "stdout",
          "text": [
            "muhammad adjie prianto\n",
            "26\n",
            "RPE\n",
            "3\n",
            "pemerograman dasar\n",
            "False\n"
          ]
        }
      ]
    }
  ]
}