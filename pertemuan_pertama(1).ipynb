{
  "nbformat": 4,
  "nbformat_minor": 0,
  "metadata": {
    "colab": {
      "provenance": [],
      "authorship_tag": "ABX9TyNAd3U95KmjVyE9Xxu+LCLw",
      "include_colab_link": true
    },
    "kernelspec": {
      "name": "python3",
      "display_name": "Python 3"
    },
    "language_info": {
      "name": "python"
    }
  },
  "cells": [
    {
      "cell_type": "markdown",
      "metadata": {
        "id": "view-in-github",
        "colab_type": "text"
      },
      "source": [
        "<a href=\"https://colab.research.google.com/github/muhammadadjieprianto20092005-byte/pemograman-dasar/blob/main/pertemuan_pertama(1).ipynb\" target=\"_parent\"><img src=\"https://colab.research.google.com/assets/colab-badge.svg\" alt=\"Open In Colab\"/></a>"
      ]
    },
    {
      "cell_type": "code",
      "source": [
        "# Biodata Saya\n",
        "\n",
        "nama = \"muhammad adjie prianto\"\n",
        "umur = 20\n",
        "jurusan = \"RPE\"\n",
        "semester = 3\n",
        "mata_kuliah = 'pemerograman dasar'\n",
        "status_lulus = False\n",
        "bekerja = \"sumitomo\"\n",
        "alamat_rumah = 'kavling_sambau'\n",
        "tahunkelahiran = 2005\n",
        "hobi = \"futsal\"\n",
        "tinggi_badan = 168\n",
        "nomorhp = '0895364776030'\n",
        "status = 'belum_menikah'\n",
        "\n",
        "\n",
        "\n",
        "print (nama)\n",
        "print (umur)\n",
        "print (jurusan)\n",
        "print (semester)\n",
        "print (mata_kuliah)\n",
        "print (status_lulus)\n",
        "print (bekerja)\n",
        "print (alamat_rumah)\n",
        "print (tahunkelahiran)\n",
        "print (hobi)\n",
        "print (tinggi_badan)\n",
        "print (nomorhp)\n",
        "print (status)\n",
        "\n",
        "\n"
      ],
      "metadata": {
        "colab": {
          "base_uri": "https://localhost:8080/"
        },
        "id": "fmBG1od7UBbw",
        "outputId": "be25dea4-4c54-4116-8713-4c140b81aa39"
      },
      "execution_count": 8,
      "outputs": [
        {
          "output_type": "stream",
          "name": "stdout",
          "text": [
            "muhammad adjie prianto\n",
            "20\n",
            "RPE\n",
            "3\n",
            "pemerograman dasar\n",
            "False\n",
            "sumitomo\n",
            "kavling_sambau\n",
            "2005\n",
            "futsal\n",
            "168\n",
            "0895364776030\n",
            "belum_menikah\n"
          ]
        }
      ]
    },
    {
      "cell_type": "code",
      "source": [],
      "metadata": {
        "id": "ztKaS21XJHxb"
      },
      "execution_count": null,
      "outputs": []
    }
  ]
}