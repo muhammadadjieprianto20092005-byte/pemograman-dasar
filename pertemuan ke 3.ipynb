{
  "nbformat": 4,
  "nbformat_minor": 0,
  "metadata": {
    "colab": {
      "provenance": [],
      "authorship_tag": "ABX9TyNK40S0A0kifgi/0ZS4sXCy",
      "include_colab_link": true
    },
    "kernelspec": {
      "name": "python3",
      "display_name": "Python 3"
    },
    "language_info": {
      "name": "python"
    }
  },
  "cells": [
    {
      "cell_type": "markdown",
      "metadata": {
        "id": "view-in-github",
        "colab_type": "text"
      },
      "source": [
        "<a href=\"https://colab.research.google.com/github/muhammadadjieprianto20092005-byte/pemograman-dasar/blob/main/pertemuan%20ke%203.ipynb\" target=\"_parent\"><img src=\"https://colab.research.google.com/assets/colab-badge.svg\" alt=\"Open In Colab\"/></a>"
      ]
    },
    {
      "cell_type": "code",
      "execution_count": null,
      "metadata": {
        "colab": {
          "base_uri": "https://localhost:8080/"
        },
        "id": "brscj_hKa1Wi",
        "outputId": "50bc407b-c972-4007-d48e-8b8ff408f186"
      },
      "outputs": [
        {
          "output_type": "stream",
          "name": "stdout",
          "text": [
            "Berapa porsi makan yang Anda beli?: 3\n",
            "Siapa Nama Pelanggan ?: adjie\n",
            "Pelanggan adjie membeli 3.0 porsi makanan.\n"
          ]
        }
      ],
      "source": [
        "# Program Input dengan tipe data float\n",
        "\n",
        "# Input jumlah porsi (float)\n",
        "total = float(input(\"Berapa porsi makan yang Anda beli?: \"))\n",
        "\n",
        "# Input nama pelanggan (string)\n",
        "Nama = str(input(\"Siapa Nama Pelanggan ?: \"))\n",
        "\n",
        "# Output\n",
        "print(f\"Pelanggan {Nama} membeli {total} porsi makanan.\")"
      ]
    },
    {
      "cell_type": "code",
      "source": [
        "# Program Output dengan format karakter\n",
        "\n",
        "nama = \"adjie\"\n",
        "umur = 20\n",
        "tinggi = 170\n",
        "\n",
        "# Menggunakan berbagai format\n",
        "print(\"Nama saya %s\" % (nama))        # %s untuk string\n",
        "print(\"Umur saya %d tahun\" % (umur)) # %d untuk integer\n",
        "print(\"Tinggi saya %.2f cm\" % (tinggi)) # %f untuk float\n",
        "print(\"Umur dalam heksadesimal: %x\" % (umur)) # %x untuk hex\n",
        "print(\"Umur dalam oktal: %o\" % (umur))       # %o untuk octal"
      ],
      "metadata": {
        "colab": {
          "base_uri": "https://localhost:8080/"
        },
        "id": "f3LtIlQ9dFbZ",
        "outputId": "0bc53347-5cf0-4344-95ea-5e7458caa8ce"
      },
      "execution_count": null,
      "outputs": [
        {
          "output_type": "stream",
          "name": "stdout",
          "text": [
            "Nama saya adjie\n",
            "Umur saya 20 tahun\n",
            "Tinggi saya 170.00 cm\n",
            "Umur dalam heksadesimal: 14\n",
            "Umur dalam oktal: 24\n"
          ]
        }
      ]
    },
    {
      "cell_type": "code",
      "source": [
        "# Program Konversi Waktu: Detik -> Jam:Menit:Detik\n",
        "\n",
        "# Input dari keyboard\n",
        "total_detik = int(input(\"Masukkan total detik: \"))\n",
        "\n",
        "# Proses konversi\n",
        "jam = total_detik // 3600\n",
        "sisa_detik = total_detik % 3600\n",
        "menit = sisa_detik // 60\n",
        "detik = sisa_detik % 60\n",
        "\n",
        "# Output hasil konversi\n",
        "print(f\"Hasil konversi: {jam} jam, {menit} menit, {detik} detik\")"
      ],
      "metadata": {
        "colab": {
          "base_uri": "https://localhost:8080/"
        },
        "id": "ypsKVIsIhawv",
        "outputId": "fa5208fe-8d6c-46cb-81f6-b108f8837cbb"
      },
      "execution_count": null,
      "outputs": [
        {
          "output_type": "stream",
          "name": "stdout",
          "text": [
            "Masukkan total detik: 358200\n",
            "Hasil konversi: 99 jam, 30 menit, 0 detik\n"
          ]
        }
      ]
    },
    {
      "cell_type": "code",
      "source": [
        "# Program Menghitung Nilai Akhir Mahasiswa\n",
        "\n",
        "# Input nilai dari keyboard\n",
        "tugas = float(input(\"Masukkan nilai tugas: \"))\n",
        "uts = float(input(\"Masukkan nilai UTS: \"))\n",
        "uas = float(input(\"Masukkan nilai UAS: \"))\n",
        "standar_kelulusan = float(input(\"Masukkan nilai standar kelulusan: \"))\n",
        "\n",
        "# Hitung nilai akhir dengan bobot\n",
        "nilai_akhir = (0.3 * tugas) + (0.3 * uts) + (0.4 * uas)\n",
        "\n",
        "# Output nilai akhir\n",
        "print(\"\\n===== HASIL PERHITUNGAN =====\")\n",
        "print(f\"Nilai Tugas   : {tugas}\")\n",
        "print(f\"Nilai UTS     : {uts}\")\n",
        "print(f\"Nilai UAS     : {uas}\")\n",
        "print(f\"Nilai Akhir   : {nilai_akhir:.2f}\")\n",
        "\n",
        "# Evaluasi kelulusan\n",
        "if nilai_akhir >= standar_kelulusan:\n",
        "    print(\"Status        : LULUS ✅\")\n",
        "else:\n",
        "    print(\"Status        : REMEDIAL ❌\")"
      ],
      "metadata": {
        "colab": {
          "base_uri": "https://localhost:8080/"
        },
        "id": "bLNB_jPmi55I",
        "outputId": "7e24aa8d-0322-4faf-8e52-50d5509d896f"
      },
      "execution_count": null,
      "outputs": [
        {
          "output_type": "stream",
          "name": "stdout",
          "text": [
            "Masukkan nilai tugas: 78\n",
            "Masukkan nilai UTS: 92\n",
            "Masukkan nilai UAS: 88\n",
            "Masukkan nilai standar kelulusan: 80\n",
            "\n",
            "===== HASIL PERHITUNGAN =====\n",
            "Nilai Tugas   : 78.0\n",
            "Nilai UTS     : 92.0\n",
            "Nilai UAS     : 88.0\n",
            "Nilai Akhir   : 86.20\n",
            "Status        : LULUS ✅\n"
          ]
        }
      ]
    },
    {
      "cell_type": "code",
      "source": [
        "# Program Menghitung Total Belanja dengan Diskon\n",
        "\n",
        "# Input belanja dari keyboard\n",
        "belanja = int(input(\"Masukkan total belanja: \"))\n",
        "\n",
        "# Logika diskon\n",
        "if belanja > 1000000:\n",
        "    diskon = 0.35 * belanja   # Diskon 35% jika belanja > 1.000.000\n",
        "elif belanja > 500000:\n",
        "    diskon = 0.1 * belanja    # Diskon 10% jika belanja > 500.000\n",
        "else:\n",
        "    diskon = 0                # Tidak ada diskon\n",
        "\n",
        "# Hitung total harga\n",
        "total_harga = belanja - diskon\n",
        "\n",
        "# Output\n",
        "print(\"\\n===== STRUK BELANJA =====\")\n",
        "print(f\"Total Belanja : Rp {belanja}\")\n",
        "print(f\"Diskon        : Rp {diskon}\")\n",
        "print(f\"Total Bayar   : Rp {total_harga}\")"
      ],
      "metadata": {
        "colab": {
          "base_uri": "https://localhost:8080/"
        },
        "id": "8U71rfCupZ7p",
        "outputId": "f54842e7-18a4-4a48-f230-cdba34994d21"
      },
      "execution_count": null,
      "outputs": [
        {
          "output_type": "stream",
          "name": "stdout",
          "text": [
            "Masukkan total belanja: 1000000\n",
            "\n",
            "===== STRUK BELANJA =====\n",
            "Total Belanja : Rp 1000000\n",
            "Diskon        : Rp 100000.0\n",
            "Total Bayar   : Rp 900000.0\n"
          ]
        }
      ]
    },
    {
      "cell_type": "code",
      "source": [
        "# Program menentukan tahun kabisat\n",
        "\n",
        "# Input tahun dari user\n",
        "tahun = int(input(\"Masukkan tahun: \"))\n",
        "\n",
        "# Ekspresi logika kompleks untuk menentukan tahun kabisat\n",
        "if (tahun % 400 == 0) or (tahun % 4 == 0 and tahun % 100 != 0):\n",
        "    print(f\"{tahun} adalah tahun kabisat.\")\n",
        "else:\n",
        "    print(f\"{tahun} bukan tahun kabisat.\")\n"
      ],
      "metadata": {
        "colab": {
          "base_uri": "https://localhost:8080/"
        },
        "id": "RWhw1htUqDfB",
        "outputId": "ed453a34-e927-4503-e7c0-26b1531ceb54"
      },
      "execution_count": 33,
      "outputs": [
        {
          "output_type": "stream",
          "name": "stdout",
          "text": [
            "Masukkan tahun: 2100\n",
            "2100 bukan tahun kabisat.\n"
          ]
        }
      ]
    },
    {
      "cell_type": "code",
      "source": [
        "# Program simulasi belanja kedai kopi sederhana\n",
        "\n",
        "# Input data\n",
        "subtotal = int(input(\"Masukkan subtotal belanja (Rp): \"))\n",
        "member = input(\"Apakah Anda member? (ya/tidak): \").lower()\n",
        "# Tentukan syarat diskon\n",
        "diskon = 0\n",
        "if member == \"ya\" and subtotal > 100000:\n",
        "    diskon = 0.15 * subtotal   # diskon 15%\n",
        "# Hitung harga setelah diskon\n",
        "harga_setelah_diskon = subtotal - diskon\n",
        "# Hitung PPN 11%\n",
        "ppn = 0.11 * harga_setelah_diskon\n",
        "# Hitung total akhir\n",
        "total_akhir = harga_setelah_diskon + ppn\n",
        "\n",
        "# Output\n",
        "print(\"\\n=== Rincian Belanja ===\")\n",
        "print(\"Subtotal            : Rp\", subtotal)\n",
        "print(\"Diskon              : Rp\", int(diskon))\n",
        "print(\"Harga setelah diskon: Rp\", int(harga_setelah_diskon))\n",
        "print(\"PPN 11%             : Rp\", int(ppn))\n",
        "print(\"Total Akhir         : Rp\", int(total_akhir))"
      ],
      "metadata": {
        "colab": {
          "base_uri": "https://localhost:8080/"
        },
        "id": "o_S-JlBvNd3p",
        "outputId": "221dacd1-949a-4d94-c16b-d2f6df745fd2"
      },
      "execution_count": 34,
      "outputs": [
        {
          "output_type": "stream",
          "name": "stdout",
          "text": [
            "Masukkan subtotal belanja (Rp): 125000\n",
            "Apakah Anda member? (ya/tidak): ya\n",
            "\n",
            "=== Rincian Belanja ===\n",
            "Subtotal            : Rp 125000\n",
            "Diskon              : Rp 18750\n",
            "Harga setelah diskon: Rp 106250\n",
            "PPN 11%             : Rp 11687\n",
            "Total Akhir         : Rp 117937\n"
          ]
        }
      ]
    }
  ]
}