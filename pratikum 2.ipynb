{
  "nbformat": 4,
  "nbformat_minor": 0,
  "metadata": {
    "colab": {
      "provenance": [],
      "authorship_tag": "ABX9TyOCIcpOCIAjdNNdnApbytzn",
      "include_colab_link": true
    },
    "kernelspec": {
      "name": "python3",
      "display_name": "Python 3"
    },
    "language_info": {
      "name": "python"
    }
  },
  "cells": [
    {
      "cell_type": "markdown",
      "metadata": {
        "id": "view-in-github",
        "colab_type": "text"
      },
      "source": [
        "<a href=\"https://colab.research.google.com/github/muhammadadjieprianto20092005-byte/pemograman-dasar/blob/main/pratikum%202.ipynb\" target=\"_parent\"><img src=\"https://colab.research.google.com/assets/colab-badge.svg\" alt=\"Open In Colab\"/></a>"
      ]
    },
    {
      "cell_type": "code",
      "execution_count": null,
      "metadata": {
        "colab": {
          "base_uri": "https://localhost:8080/"
        },
        "id": "hhlBwB5SU1K0",
        "outputId": "a2e6a328-f205-4514-8731-648cf813a511"
      },
      "outputs": [
        {
          "output_type": "stream",
          "name": "stdout",
          "text": [
            "23\n",
            "43\n",
            "51\n",
            "34\n",
            "[23, 43, 51, 34]\n"
          ]
        }
      ],
      "source": [
        "# deklarasi variabel list\n",
        "numbers = [23,43,15,34]\n",
        "# cara mengakses elemen dalam variabel list\n",
        "numbers[0]  #23\n",
        "numbers[1]  #43\n",
        "numbers[2]  #15\n",
        "numbers[3]  #34\n",
        "# cara mengubah nilai elemen dalam variabel list\n",
        "numbers[2] = 51\n",
        "numbers[2] # 51\n",
        "\n",
        "print (numbers[0]) #lakukan untuk setiap indexnya dan liat hasilnya\n",
        "print (numbers[1])\n",
        "print (numbers[2])\n",
        "print (numbers[3])\n",
        "print (numbers)\n",
        "\n"
      ]
    },
    {
      "cell_type": "code",
      "source": [
        "# deklarasi variabel list numbers\n",
        "numbers = [1, 2, 3]\n",
        "print (numbers)\n",
        "\n",
        "# menambahkan elemen di indeks ke-4\n",
        "numbers.insert(4, 5)   #[1, 2, 3, 5]\n",
        "print (numbers)\n",
        "\n",
        "# mengubah elemen di indeks ke-4\n",
        "numbers[3] = 4   #[1, 2, 3, 4]\n",
        "print (numbers)\n",
        "\n",
        "# mengapus elemen di indeks ke-2\n",
        "numbers.pop(2)   #[1, 2, 4]\n",
        "print (numbers)\n",
        "\n"
      ],
      "metadata": {
        "colab": {
          "base_uri": "https://localhost:8080/"
        },
        "id": "lpj0unQwbu81",
        "outputId": "00423eae-c2b3-4ff0-eb6f-5f150cba65b3"
      },
      "execution_count": null,
      "outputs": [
        {
          "output_type": "stream",
          "name": "stdout",
          "text": [
            "[1, 2, 3]\n",
            "[1, 2, 3, 5]\n",
            "[1, 2, 3, 4]\n",
            "[1, 2, 4]\n"
          ]
        }
      ]
    },
    {
      "cell_type": "code",
      "source": [
        "# deklarasi variabel list\n",
        "mylist = [1, \"Rumah\", 4.5, True, [\"kamar mandi\", \"kamar tidur\"]]\n",
        "\n",
        "# cara mengakses elemen dalam variabel list\n",
        "mylist[0] # 1\n",
        "mylist[1] # \"Rumah\"\n",
        "mylist[3] # True\n",
        "mylist[4] # [\"kamar mandi\", \"kamar tidur\"]\n",
        "\n",
        "# cara mengakses element dalam sublist\n",
        "mylist[4][0]   # \"kamar mandi\"\n",
        "mylist[4][1]   # \"kamar tidur\"\n",
        "\n",
        "#lakukan print lalu amati hasilnya\n",
        "\n",
        "print(mylist[0])\n",
        "print(mylist[1])\n",
        "print(mylist[3])\n",
        "print(mylist[4])\n",
        "\n",
        "print(mylist[4][0])\n",
        "print(mylist[4][1])"
      ],
      "metadata": {
        "colab": {
          "base_uri": "https://localhost:8080/"
        },
        "id": "HxnLjkGRwZ9Q",
        "outputId": "818129d1-0f1f-40f6-eb39-65a3076f9d96"
      },
      "execution_count": 1,
      "outputs": [
        {
          "output_type": "stream",
          "name": "stdout",
          "text": [
            "1\n",
            "Rumah\n",
            "True\n",
            "['kamar mandi', 'kamar tidur']\n",
            "kamar mandi\n",
            "kamar tidur\n"
          ]
        }
      ]
    }
  ]
}