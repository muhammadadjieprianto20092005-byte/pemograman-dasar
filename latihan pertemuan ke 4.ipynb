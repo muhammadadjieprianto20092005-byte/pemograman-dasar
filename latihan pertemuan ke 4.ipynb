{
  "nbformat": 4,
  "nbformat_minor": 0,
  "metadata": {
    "colab": {
      "provenance": [],
      "authorship_tag": "ABX9TyPUvoA0MvbHHBDQ+XsVgX8H",
      "include_colab_link": true
    },
    "kernelspec": {
      "name": "python3",
      "display_name": "Python 3"
    },
    "language_info": {
      "name": "python"
    }
  },
  "cells": [
    {
      "cell_type": "markdown",
      "metadata": {
        "id": "view-in-github",
        "colab_type": "text"
      },
      "source": [
        "<a href=\"https://colab.research.google.com/github/muhammadadjieprianto20092005-byte/pemograman-dasar/blob/main/latihan%20pertemuan%20ke%204.ipynb\" target=\"_parent\"><img src=\"https://colab.research.google.com/assets/colab-badge.svg\" alt=\"Open In Colab\"/></a>"
      ]
    },
    {
      "cell_type": "code",
      "execution_count": null,
      "metadata": {
        "colab": {
          "base_uri": "https://localhost:8080/"
        },
        "id": "Vo4-PIsY-rxU",
        "outputId": "69b8787c-591e-4315-cc5a-d114e2684c6b"
      },
      "outputs": [
        {
          "output_type": "stream",
          "name": "stdout",
          "text": [
            "20 adalah kelipatan 5\n"
          ]
        }
      ],
      "source": [
        "# kelipan 5\n",
        "angka = 20\n",
        "if angka % 5 == 0:\n",
        "  print(f\"{angka} adalah kelipatan 5\")\n",
        "else:\n",
        "  print(f\"{angka} bukan kelipatn 5\")"
      ]
    },
    {
      "cell_type": "code",
      "source": [
        "# tahun kabisat\n",
        "tahun = 2021\n",
        "if tahun % 400 == 0:\n",
        "  print(f\"{tahun} tahun ini adalah kabisat\")\n",
        "elif (tahun % 4 == 0) and (tahun % 100 != 0):\n",
        "  print(f\"{tahun} tahun ini adalah kabisat\")\n",
        "else:\n",
        "  print(f\"{tahun} tahun ini bukan kabisat\")"
      ],
      "metadata": {
        "colab": {
          "base_uri": "https://localhost:8080/"
        },
        "id": "zpcd3-TZDVbX",
        "outputId": "2c046d79-eb23-48d1-e6fd-4ccc70b70535"
      },
      "execution_count": null,
      "outputs": [
        {
          "output_type": "stream",
          "name": "stdout",
          "text": [
            "2021 tahun ini bukan kabisat\n"
          ]
        }
      ]
    },
    {
      "cell_type": "code",
      "source": [
        "# pengunaan if\n",
        "soal_matematika = 12 + 8\n",
        "if soal_matematika == 20:\n",
        "  print(\"jawaban adalah benar sekali\")\n",
        "\n",
        "# penggunaan if dan elif\n",
        "soal_matematika = 56 / 4\n",
        "if soal_matematika == 8:\n",
        "  print(\"jawaban benar karena bisa di bagi 7\")\n",
        "elif soal_matematika == 14:\n",
        "  print(\"jawaban benar karena bisa di bagi 4\")\n",
        "\n",
        "# pengunaan if, elif dan else\n",
        "soal_matematika = 6 + 3\n",
        "if soal_matematika == 3 * 3 == 9:\n",
        "  print(\"jawaban benar nilai A\")\n",
        "elif soal_matematika == 6 + 3 == 9:\n",
        "  print(\"jawaban benar nilai B\")\n",
        "else:\n",
        "  print(\"jawban salah tidak ada yang benar\")\n"
      ],
      "metadata": {
        "colab": {
          "base_uri": "https://localhost:8080/"
        },
        "id": "L0a7gAQCFSKG",
        "outputId": "7ab5591b-98cf-4575-b3a1-c42e2d8d3132"
      },
      "execution_count": null,
      "outputs": [
        {
          "output_type": "stream",
          "name": "stdout",
          "text": [
            "jawaban adalah benar sekali\n",
            "jawaban benar karena bisa di bagi 4\n",
            "jawaban benar nilai A\n"
          ]
        }
      ]
    },
    {
      "cell_type": "code",
      "source": [
        "# nama bulan\n",
        "bulan = int(input(\"Masukkan angka bulan (1-12): \"))\n",
        "nama_bulan = [\"Januari\",\"Februari\",\"Maret\",\"April\",\"Mei\",\"Juni\",\n",
        "              \"Juli\",\"Agustus\",\"September\",\"Oktober\",\"November\",\"Desember\"]\n",
        "\n",
        "if 1 <= bulan <= 12:\n",
        "    print(\"Bulan:\", nama_bulan[bulan-1])\n",
        "else:\n",
        "    print(\"Input salah\")"
      ],
      "metadata": {
        "colab": {
          "base_uri": "https://localhost:8080/"
        },
        "id": "dVmx84xXMSyY",
        "outputId": "60841cb5-1e89-44d7-88f9-8855282dde4a"
      },
      "execution_count": null,
      "outputs": [
        {
          "output_type": "stream",
          "name": "stdout",
          "text": [
            "Masukkan angka bulan (1-12): 13\n",
            "Input salah\n"
          ]
        }
      ]
    },
    {
      "cell_type": "code",
      "source": [
        "# Input jam\n",
        "jam = int(input(\"Masukkan jam (0-23): \"))\n",
        "if 0 <= jam <= 11:\n",
        "    print(\"Selamat Pagi\")\n",
        "elif 12 <= jam <= 15:\n",
        "    print(\"Selamat Siang\")\n",
        "elif 16 <= jam <= 18:\n",
        "    print(\"Selamat Sore\")\n",
        "elif 19 <= jam <= 23:\n",
        "    print(\"Selamat Malam\")\n",
        "else:\n",
        "    print(\"Input salah\")"
      ],
      "metadata": {
        "colab": {
          "base_uri": "https://localhost:8080/"
        },
        "id": "62ny_MZvRzF8",
        "outputId": "77d1c95f-7300-45f3-eda9-774d2ae47607"
      },
      "execution_count": null,
      "outputs": [
        {
          "output_type": "stream",
          "name": "stdout",
          "text": [
            "Masukkan jam (0-23): 4\n",
            "Selamat Pagi\n"
          ]
        }
      ]
    }
  ]
}